{
 "cells": [
  {
   "cell_type": "markdown",
   "metadata": {},
   "source": [
    "# U.S. Medical Insurance Costs\n",
    "\n",
    "In this Python file, I will be analysing the insurance.csv dataset and looking how different factors such as smoking status and location can impact the cost of insurance. The 7 main analyses I will be conducting are as follows:\n",
    "\n",
    "- Calculating the average age of people in the dataset.\n",
    "- Calculating the average cost of insurance for people in the dataset.\n",
    "- Calculating how the average insurance cost differs for people with no children vs people with 1 child, 2 children and 3+ children.\n",
    "- Checking if there is any notable variations in insurance costs for people with a similar lifestyle depending on where they live.\n",
    "- Determining whether smokers are more or less likely to have children.\n",
    "- Checking whether a high BMI contributes to higher insurance costs more than being a smoker does.\n",
    "- Calculating the average insurance costs of non-smokers vs smokers."
   ]
  },
  {
   "cell_type": "markdown",
   "metadata": {},
   "source": [
    "## Calculating the average age of people in the dataset\n",
    "\n",
    "In the following code, I begin by creating an empty list to store each individuals age. I then iterate through the 'age' row within the data set and append each age to the list. Finally, I then divide the accumulative total of all ages in the list by the number of items in the list to give me the average age. I then print this to the console."
   ]
  },
  {
   "cell_type": "code",
   "execution_count": 33,
   "metadata": {},
   "outputs": [
    {
     "name": "stdout",
     "output_type": "stream",
     "text": [
      "The average age of an individual in the insurance.csv dataset is 39.21 years old\n"
     ]
    }
   ],
   "source": [
    "ages = []\n",
    "\n",
    "with open('insurance.csv') as insurance_csv:\n",
    "    insurance_reader = csv.DictReader(insurance_csv)\n",
    "    for row in insurance_reader:\n",
    "        ages.append(int(row['age']))\n",
    "\n",
    "total_age = 0\n",
    "\n",
    "for age in ages:\n",
    "    total_age += age\n",
    "\n",
    "average_age = total_age / len(ages)\n",
    "\n",
    "print('The average age of an individual in the insurance.csv dataset is {} years old'.format(round(average_age, 2)))"
   ]
  },
  {
   "cell_type": "markdown",
   "metadata": {},
   "source": [
    "## Calculating the average cost of insurance for people in the dataset\n",
    "\n",
    "In the following code, I begin by creating an empty list to store each individuals insurance cost. I then iterate through the 'charges' row within the data set and append each cost to the list, rounded down to two decimal places. Finally, I then divide the accumulative total of all costs by the number of items in the list to give me the average insurance cost. I then print this to the console."
   ]
  },
  {
   "cell_type": "code",
   "execution_count": 35,
   "metadata": {
    "jupyter": {
     "source_hidden": true
    }
   },
   "outputs": [
    {
     "name": "stdout",
     "output_type": "stream",
     "text": [
      "The average cost for and individual in the insurance.csv dataset is $13270.42\n"
     ]
    }
   ],
   "source": [
    "costs = []\n",
    "\n",
    "with open('insurance.csv') as insurance_csv:\n",
    "    insurance_reader = csv.DictReader(insurance_csv)\n",
    "    for row in insurance_reader:\n",
    "        costs.append(float(row['charges']))\n",
    "\n",
    "total_costs = 0\n",
    "\n",
    "for cost in costs:\n",
    "    total_costs += cost\n",
    "\n",
    "average_cost = total_costs / len(costs)\n",
    "\n",
    "print('The average cost for and individual in the insurance.csv dataset is ${}'.format(round(average_cost, 2)))"
   ]
  },
  {
   "cell_type": "markdown",
   "metadata": {},
   "source": [
    "## Calculating how the average insurance cost differs for people with no children vs people with 1 child, 2 children and 3+ children.\n",
    "\n",
    "In the following code, I begin by creating empty variables to store the total number of people with no children, as well as variables to store the total number of people with 1, 2 and 3+ children respectively. In addition to this, I store the corresponding insurance costs for these individuals as a cumulative total in an accompanying variable.\n",
    "\n",
    "Once I have looped through the entire dataset and my variables have been populated, I then divide the total cost for each variable by the number of people in each variable to get an average insurance cost for people with no children, 1 child, 2 children and 3+ children. I then use several print statements to display and compare these figures."
   ]
  },
  {
   "cell_type": "code",
   "execution_count": 37,
   "metadata": {
    "jupyter": {
     "source_hidden": true
    }
   },
   "outputs": [
    {
     "name": "stdout",
     "output_type": "stream",
     "text": [
      "The average insurance cost for someone with no children is $12365.98\n",
      "The average insurance cost for someone with one child is $12731.17\n",
      "The average insurance cost for someone with two children is $15073.56\n",
      "The average insurance cost for someone with three or more children is $14576.0\n"
     ]
    }
   ],
   "source": [
    "no_children = 0\n",
    "no_children_costs = 0\n",
    "\n",
    "one_child = 0\n",
    "one_child_costs = 0\n",
    "\n",
    "two_children = 0\n",
    "two_children_costs = 0\n",
    "\n",
    "three_plus_children = 0\n",
    "three_plus_children_costs = 0\n",
    "\n",
    "with open('insurance.csv') as insurance_csv:\n",
    "    insurance_reader = csv.DictReader(insurance_csv)\n",
    "    for row in insurance_reader:\n",
    "        if int(row['children']) == 0:\n",
    "            no_children += 1\n",
    "            no_children_costs += float(row['charges'])\n",
    "        elif int(row['children']) == 1:\n",
    "            one_child += 1\n",
    "            one_child_costs += float(row['charges'])\n",
    "        elif int(row['children']) == 2:\n",
    "            two_children += 1\n",
    "            two_children_costs += float(row['charges'])\n",
    "        else:\n",
    "            three_plus_children += 1\n",
    "            three_plus_children_costs += float(row['charges'])\n",
    "\n",
    "no_child_average = round(no_children_costs / no_children, 2)\n",
    "one_child_average = round(one_child_costs / one_child, 2)\n",
    "two_child_average = round(two_children_costs / two_children, 2)\n",
    "three_plus_child_average = round(three_plus_children_costs / three_plus_children, 2)\n",
    "\n",
    "print('The average insurance cost for someone with no children is ${no_children}'.format(no_children = no_child_average))\n",
    "print('The average insurance cost for someone with one child is ${one_child}'.format(one_child = one_child_average))\n",
    "print('The average insurance cost for someone with two children is ${two_children}'.format(two_children = two_child_average))\n",
    "print('The average insurance cost for someone with three or more children is ${three_plus_children}'.format(three_plus_children = three_plus_child_average))"
   ]
  },
  {
   "cell_type": "markdown",
   "metadata": {},
   "source": [
    "As expected, the average insurance cost is the lowest for someone with no children. On average, they will pay \\\\$365.19 less per year than someone with one child, \\\\$2707.58 less than someone with two children, and \\\\$2210.02 less than someone with three or more children. \n",
    "\n",
    "Interestingly, those with exactly two children face the highest average insurance costs. They can expect to pay around \\\\$500 more per year than someone with three or more children."
   ]
  },
  {
   "cell_type": "markdown",
   "metadata": {},
   "source": [
    "## Calculating if there is any notable variations in insurance cost for people with a similar lifestyle depending on where they live\n",
    "\n",
    "For this code, I decided to compare if there are any variations in insurance costs for people with the following data depending on where they live:\n",
    "\n",
    "- Below age 30\n",
    "- Non-smoker\n",
    "- No children\n",
    "- BMI between 25 and 35\n",
    "\n",
    "I also compared data for the following individuals:\n",
    "\n",
    "- Age 50+\n",
    "- Non-smoker\n",
    "- Two or more children\n",
    "- BMI between 20 and 30\n",
    "\n",
    "To do this, I looped through each individual in the data set and stored those that met the qualifying criteria into two cumulative variables for each location. The first variable stores the cumulative total of the amount of people in each area that meet the criteria, whereas the second variable contains the cumulative insurance cost total of these individuals.\n",
    "\n",
    "Once this data has been stored, I then calculate the average insurance cost of individuals with a similar lifestyle based on their location and execute a series of print statement to display and compare this information."
   ]
  },
  {
   "cell_type": "code",
   "execution_count": 40,
   "metadata": {
    "jupyter": {
     "source_hidden": true
    }
   },
   "outputs": [
    {
     "name": "stdout",
     "output_type": "stream",
     "text": [
      "These are the average insurance costs by location for a non-smoking, childless individual below the age of 30 with a BMI between 25 and 35 inclusive:\n",
      "Northwest average insurance cost: $3054.75\n",
      "Northeast average insurance cost: $3328.56\n",
      "Southwest average insurance cost: $4141.41\n",
      "Southeast average insurance cost: $2755.75\n",
      "\n",
      "\n",
      "These are the average insurance costs by location for a non-smoking individual above the age of 50 with two or more children and a BMI between 20 and 30 inclusive:\n",
      "Northwest average insurance cost: $9553.33\n",
      "Northeast average insurance cost: $10024.76\n",
      "Southwest average insurance cost: $8919.31\n",
      "Southeast average insurance cost: $10925.25\n"
     ]
    }
   ],
   "source": [
    "one_northwest_total_people = 0\n",
    "one_northwest_total_costs = 0\n",
    "\n",
    "one_northeast_total_people = 0\n",
    "one_northeast_total_costs = 0\n",
    "\n",
    "one_southwest_total_people = 0\n",
    "one_southwest_total_costs = 0\n",
    "\n",
    "one_southeast_total_people = 0\n",
    "one_southeast_total_costs = 0\n",
    "\n",
    "with open('insurance.csv') as insurance_csv:\n",
    "    insurance_reader = csv.DictReader(insurance_csv)\n",
    "    for row in insurance_reader:\n",
    "        if int(row['age']) <= 30 and row['smoker'] == 'no' and int(row['children']) == 0 and float(row['bmi']) >= 25 and float(row['bmi']) <= 35:\n",
    "            if row['region'] == 'northwest':\n",
    "                one_northwest_total_people += 1\n",
    "                one_northwest_total_costs += float(row['charges'])\n",
    "            elif row['region'] == 'northeast':\n",
    "                one_northeast_total_people += 1\n",
    "                one_northeast_total_costs += float(row['charges'])\n",
    "            elif row['region'] == 'southwest':\n",
    "                one_southwest_total_people += 1\n",
    "                one_southwest_total_costs += float(row['charges'])\n",
    "            else:\n",
    "                one_southeast_total_people += 1\n",
    "                one_southeast_total_costs += float(row['charges'])\n",
    "\n",
    "one_northwest_average_cost = round(one_northwest_total_costs / one_northwest_total_people, 2)\n",
    "one_northeast_average_cost = round(one_northeast_total_costs / one_northeast_total_people, 2)\n",
    "one_southwest_average_cost = round(one_southwest_total_costs / one_southwest_total_people, 2)\n",
    "one_southeast_average_cost = round(one_southeast_total_costs / one_southeast_total_people, 2)\n",
    "\n",
    "print('These are the average insurance costs by location for a non-smoking, childless individual below the age of 30 with a BMI between 25 and 35 inclusive:')\n",
    "print('Northwest average insurance cost: ${}'.format(one_northwest_average_cost))\n",
    "print('Northeast average insurance cost: ${}'.format(one_northeast_average_cost))\n",
    "print('Southwest average insurance cost: ${}'.format(one_southwest_average_cost))\n",
    "print('Southeast average insurance cost: ${}'.format(one_southeast_average_cost))\n",
    "print('\\n')\n",
    "\n",
    "two_northwest_total_people = 0\n",
    "two_northwest_total_costs = 0\n",
    "\n",
    "two_northeast_total_people = 0\n",
    "two_northeast_total_costs = 0\n",
    "\n",
    "two_southwest_total_people = 0\n",
    "two_southwest_total_costs = 0\n",
    "\n",
    "two_southeast_total_people = 0\n",
    "two_southeast_total_costs = 0\n",
    "\n",
    "with open('insurance.csv') as insurance_csv:\n",
    "    insurance_reader = csv.DictReader(insurance_csv)\n",
    "    for row in insurance_reader:\n",
    "        if int(row['age']) >= 30 and row['smoker'] == 'no' and int(row['children']) >= 2 and float(row['bmi']) >= 20 and float(row['bmi']) <= 30:\n",
    "            if row['region'] == 'northwest':\n",
    "                two_northwest_total_people += 1\n",
    "                two_northwest_total_costs += float(row['charges'])\n",
    "            elif row['region'] == 'northeast':\n",
    "                two_northeast_total_people += 1\n",
    "                two_northeast_total_costs += float(row['charges'])\n",
    "            elif row['region'] == 'southwest':\n",
    "                two_southwest_total_people += 1\n",
    "                two_southwest_total_costs += float(row['charges'])\n",
    "            else:\n",
    "                two_southeast_total_people += 1\n",
    "                two_southeast_total_costs += float(row['charges'])\n",
    "\n",
    "two_northwest_average_cost = round(two_northwest_total_costs / two_northwest_total_people, 2)\n",
    "two_northeast_average_cost = round(two_northeast_total_costs / two_northeast_total_people, 2)\n",
    "two_southwest_average_cost = round(two_southwest_total_costs / two_southwest_total_people, 2)\n",
    "two_southeast_average_cost = round(two_southeast_total_costs / two_southeast_total_people, 2)\n",
    "\n",
    "print('These are the average insurance costs by location for a non-smoking individual above the age of 50 with two or more children and a BMI between 20 and 30 inclusive:')\n",
    "print('Northwest average insurance cost: ${}'.format(two_northwest_average_cost))\n",
    "print('Northeast average insurance cost: ${}'.format(two_northeast_average_cost))\n",
    "print('Southwest average insurance cost: ${}'.format(two_southwest_average_cost))\n",
    "print('Southeast average insurance cost: ${}'.format(two_southeast_average_cost))"
   ]
  },
  {
   "cell_type": "markdown",
   "metadata": {},
   "source": [
    "From the first data set, we can see that there is not much difference in insurance costs for similar individuals in the Nortwest, Northeast and Southeast. However, interesting, it is almost $1000 more expensive on average to live in the Southwest that the next most expensive region (Northeast). An individual who meets the specified criteria would end up payment over 50% more for their insurance costs in the Southwest than that would in the Southeast.\n",
    "\n",
    "Interestingly, in the next dataset, the Southwest is the least expensive region. This suggests that young people pay a premium in this region, but as they get older they can expect to pay less than their counterparts in the rest of the country. It is also interesting that the cheapest region (Southeast) in the first analysis is the most expensive region in this analysis."
   ]
  },
  {
   "cell_type": "markdown",
   "metadata": {},
   "source": [
    "## Determining whether smokers are more or less likely to have children\n",
    "\n",
    "In the following code, I begin by assigning smokers and non-smokers into variables based on whether they have children. Once I have done this, I work out what percentage of each category have one or more children before comparing the two to determine whether it is more likely that smokers or non-smokers have children."
   ]
  },
  {
   "cell_type": "code",
   "execution_count": 43,
   "metadata": {
    "jupyter": {
     "source_hidden": true
    }
   },
   "outputs": [
    {
     "name": "stdout",
     "output_type": "stream",
     "text": [
      "Of the 1338 individuals in our dataset, 274 were smokers and 1064 were non-smokers. Of the smokers, 58.03% have at least one child. Of the non-smokers, 56.86% have at least one child.\n"
     ]
    }
   ],
   "source": [
    "total_smokers = 0\n",
    "smokers_with_children = 0\n",
    "\n",
    "total_non_smokers = 0\n",
    "non_smokers_with_children = 0\n",
    "\n",
    "with open('insurance.csv') as insurance_csv:\n",
    "    insurance_reader = csv.DictReader(insurance_csv)\n",
    "    for row in insurance_reader:\n",
    "        if row['smoker'] == 'yes':\n",
    "            total_smokers += 1\n",
    "            if int(row['children']) >= 1:\n",
    "                smokers_with_children += 1\n",
    "        else:\n",
    "            total_non_smokers += 1\n",
    "            if int(row['children']) >= 1:\n",
    "                non_smokers_with_children += 1\n",
    "\n",
    "smokers_percentage = round((smokers_with_children / total_smokers) * 100, 2)\n",
    "non_smokers_percentage = round((non_smokers_with_children / total_non_smokers) * 100, 2)\n",
    "\n",
    "print('Of the {total} individuals in our dataset, {smokers} were smokers and {non_smokers} were non-smokers. Of the smokers, {smokers_percentage}% have at least one child. Of the non-smokers, {non_smokers_percentage}% have at least one child.'.format(total = total_smokers + total_non_smokers, smokers = total_smokers, non_smokers = total_non_smokers, smokers_percentage = smokers_percentage, non_smokers_percentage = non_smokers_percentage))"
   ]
  },
  {
   "cell_type": "markdown",
   "metadata": {},
   "source": [
    "As you can see, there is not much difference between the percentage of smokers and non-smokers that have at least one child. Given the amount of non-smokers vs smokers, I would expect this different would have been even less should more smokers have been included in the dataset. This suggests there is not correlation between a person smoking and choosing to have children."
   ]
  },
  {
   "cell_type": "markdown",
   "metadata": {},
   "source": [
    "## Checking whether a high BMI contributes to higher insurance costs more than being a smoker does.\n",
    "\n",
    "In the following code, I will determine whether someone who is a non-smoker with a high BMI (30+) faces higher insurance premiums than a smoker with a relatively healthy BMI. No other criteria will be assessed.\n",
    "\n",
    "To do this, I first collated the information of the two different types of individuals by looping through the code and populating the defined variables. Once I had collated the data, I then worked out the average insurace costs for each and compared this at the bottom."
   ]
  },
  {
   "cell_type": "code",
   "execution_count": 46,
   "metadata": {},
   "outputs": [
    {
     "name": "stdout",
     "output_type": "stream",
     "text": [
      "The average insurance costs for a smoker with a healthy BMI is $19839.28, whereas the average insurance costs for a non-smoker with a high BMI (30+) is $8842.69\n"
     ]
    }
   ],
   "source": [
    "total_smokers = 0\n",
    "total_smokers_insurance_costs = 0\n",
    "\n",
    "total_obese = 0\n",
    "total_obese_insurance_costs = 0\n",
    "\n",
    "with open('insurance.csv') as insurance_csv:\n",
    "    insurance_reader = csv.DictReader(insurance_csv)\n",
    "    for row in insurance_reader:\n",
    "        if float(row['bmi']) >= 30 and row['smoker'] == 'no':\n",
    "            total_obese += 1\n",
    "            total_obese_insurance_costs += float(row['charges'])\n",
    "        elif float(row['bmi']) < 25 and row['smoker'] == 'yes':\n",
    "            total_smokers += 1\n",
    "            total_smokers_insurance_costs += float(row['charges'])\n",
    "\n",
    "smokers_average_insurance = round(total_smokers_insurance_costs / total_smokers, 2)\n",
    "obese_average_insurance = round(total_obese_insurance_costs / total_obese, 2)\n",
    "\n",
    "print('The average insurance costs for a smoker with a healthy BMI is ${smoker_insurance}, whereas the average insurance costs for a non-smoker with a high BMI (30+) is ${obese_insurance}'.format(smoker_insurance = smokers_average_insurance, obese_insurance = obese_average_insurance))"
   ]
  },
  {
   "cell_type": "markdown",
   "metadata": {},
   "source": [
    "This analysis shows that otherwise healthy smokers pay more than double on average for their medical insurance. However, it is worth noting that there was almost 10x more obese non-smokers in the dataset than smokers with a healthy BMI, which means it may not be the most reliable analysis."
   ]
  },
  {
   "cell_type": "markdown",
   "metadata": {},
   "source": [
    "## Calculating the average insurance costs of non-smokers vs smokers.\n",
    "\n",
    "In the following code, I will be comparing how average insurance costs differs between smokers and non-smokers. I start off by looping through the code and assigning the total number of smokers and non-smokers, as well as their corresponding insurance costs, to separate variables. I then display these via a print statement for comparison."
   ]
  },
  {
   "cell_type": "code",
   "execution_count": 49,
   "metadata": {},
   "outputs": [
    {
     "name": "stdout",
     "output_type": "stream",
     "text": [
      "The average insurance cost for a smoker is $32050.23, whereas the average insurance cost for a non-smoker is $8434.27. This is a difference of $23615.96.\n"
     ]
    }
   ],
   "source": [
    "smokers = 0\n",
    "smokers_insurance_costs = 0\n",
    "\n",
    "non_smokers = 0\n",
    "non_smokers_insurance_costs = 0\n",
    "\n",
    "with open('insurance.csv') as insurance_csv:\n",
    "    insurance_reader = csv.DictReader(insurance_csv)\n",
    "    for row in insurance_reader:\n",
    "        if row['smoker'] == 'yes':\n",
    "            smokers += 1\n",
    "            smokers_insurance_costs += float(row['charges'])\n",
    "        else:\n",
    "            non_smokers += 1\n",
    "            non_smokers_insurance_costs += float(row['charges'])\n",
    "\n",
    "smokers_average = round(smokers_insurance_costs / smokers, 2)\n",
    "non_smokers_average = round(non_smokers_insurance_costs / non_smokers, 2)\n",
    "\n",
    "print('The average insurance cost for a smoker is ${smoker}, whereas the average insurance cost for a non-smoker is ${non_smoker}. This is a difference of ${dif}.'.format(smoker = smokers_average, non_smoker = non_smokers_average, dif = smokers_average - non_smokers_average))"
   ]
  },
  {
   "cell_type": "markdown",
   "metadata": {},
   "source": [
    "Unsurprisingly, the average insurance cost for an individual who smokes is significantly higher than a non-smoker. Taking into account the previous analysis I've done, we can deduce that smoking is the lifestyle choice that will have the biggest impact on your insurance cost, much more so than having a high BMI or deciding to have multiple children."
   ]
  }
 ],
 "metadata": {
  "kernelspec": {
   "display_name": "Python 3 (ipykernel)",
   "language": "python",
   "name": "python3"
  },
  "language_info": {
   "codemirror_mode": {
    "name": "ipython",
    "version": 3
   },
   "file_extension": ".py",
   "mimetype": "text/x-python",
   "name": "python",
   "nbconvert_exporter": "python",
   "pygments_lexer": "ipython3",
   "version": "3.12.7"
  }
 },
 "nbformat": 4,
 "nbformat_minor": 4
}
